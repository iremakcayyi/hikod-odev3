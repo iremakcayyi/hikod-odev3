{
 "cells": [
  {
   "cell_type": "markdown",
   "metadata": {},
   "source": [
    "#### Ödev 1\n",
    "Kullanıcıdan pi değeri ve yarıçap bilgisi alarak dairenin alanını hesaplayan bir fonksiyon oluşturulur."
   ]
  },
  {
   "cell_type": "code",
   "execution_count": null,
   "metadata": {
    "vscode": {
     "languageId": "plaintext"
    }
   },
   "outputs": [],
   "source": [
    "def alan_daire(pi, yaricap):\n",
    "    alan= pi* yaricap**2\n",
    "    return alan\n",
    "pi = float(input(\"Lütfen pi değerini girin (örneğin, 3.14): \"))\n",
    "yaricap = float(input(\"Lütfen dairenin yarıçapını girin: \"))\n",
    "\n",
    "sonuc = alan_daire(pi, yaricap)\n",
    "print(f\"Dairenin Alanı: {sonuc}\")\n"
   ]
  },
  {
   "cell_type": "markdown",
   "metadata": {},
   "source": [
    "#### Ödev 2\n",
    "\n",
    "Faktöriyel adında fonksiyon oluşturulur. Döngü kullanarak parametre olarak girilen sayının faktöriyeli hesaplanır. Format metodunu kullanılarak ekrana yazdırılır."
   ]
  },
  {
   "cell_type": "code",
   "execution_count": null,
   "metadata": {
    "vscode": {
     "languageId": "plaintext"
    }
   },
   "outputs": [],
   "source": [
    "def faktoriyel_hesapla(sayi):\n",
    "    faktoriyel = 1\n",
    "    for i in range(1, sayi + 1):\n",
    "        faktoriyel *= i\n",
    "    return faktoriyel\n",
    "\n",
    "try:\n",
    "    girilen_sayi = int(input(\"Faktöriyelini hesaplamak istediğiniz sayıyı girin: \"))\n",
    "\n",
    "    if girilen_sayi < 0:\n",
    "        print(\"Negatif sayıların faktöriyeli hesaplanamaz.\")\n",
    "    else:\n",
    "        sonuc = faktoriyel_hesapla(girilen_sayi)\n",
    "        print(\"{} sayısının faktöriyeli: {}\".format(girilen_sayi, sonuc))\n",
    "\n",
    "except ValueError:\n",
    "    print(\"Hatalı giriş. Lütfen bir tam sayı girin.\")"
   ]
  },
  {
   "cell_type": "markdown",
   "metadata": {},
   "source": [
    "#### Ödev 3\n",
    "Kişinin fonksiyona doğum yılını vererek kaç yaşında olduğunu hesaplayan bir fonksiyon oluşturun. "
   ]
  },
  {
   "cell_type": "code",
   "execution_count": null,
   "metadata": {
    "vscode": {
     "languageId": "plaintext"
    }
   },
   "outputs": [],
   "source": [
    "def yas_hesapla(dogum_yili):\n",
    "    yas = simdiki_yil - dogum_yili\n",
    "    return yas\n",
    "\n",
    "try:\n",
    "    dogum_yili = int(input(\"Doğum yılınızı girin: \"))\n",
    "    simdiki_yil = int(input(\"İçinde bulunduğunuz yılı girin: \"))\n",
    "    \n",
    "    if dogum_yili > 2024 or dogum_yili <= 0:\n",
    "        print(\"Geçersiz doğum yılı. Lütfen doğru bir yıl girin.\")\n",
    "    else:\n",
    "        kisi_yasi = yas_hesapla(dogum_yili)\n",
    "        print(\"Şu anki yaşınız: {}\".format(kisi_yasi))\n",
    "\n",
    "except ValueError:\n",
    "    print(\"Hatalı giriş. Lütfen bir tam sayı girin.\")\n",
    "    "
   ]
  },
  {
   "cell_type": "markdown",
   "metadata": {},
   "source": [
    "#### Ödev 4\n",
    "\n",
    "Doğum yılı ve isim bilgisi verilen fonksiyon kişinin emekli olup olmadığını söylesin.(Kişi 65 yaşında ise emekli olur.) Burada yaş hesabını yukarıdaki örnekteki fonksiyonu kullanarak yapsın.(Yani fonksiyon içinde fonksiyon kullanmanızı istiyorum :)) Kişi 65 yaşında ya da daha fazlaysa \"Emekli oldunuz\" yanıtını, 65 yaşından küçükse emekliliğine kaç yıl kaldığını da hesaplayarak \"(isim) emekliliğine (yıl) kaldı.\" yanıtını versin."
   ]
  },
  {
   "cell_type": "code",
   "execution_count": null,
   "metadata": {
    "vscode": {
     "languageId": "plaintext"
    }
   },
   "outputs": [],
   "source": [
    "def emeklilik_durumu(isim, dogum_yili):\n",
    "    yasi= yas_hesapla(dogum_yili)\n",
    "    \n",
    "    if yasi>= 65:\n",
    "        print(f\"{isim}, emekli oldunuz.\")\n",
    "    else:\n",
    "        kalan_yil= 65-yasi\n",
    "        print(f\"{isim}, emekliliğinize {kalan_yil} yıl kaldı.\")\n",
    "isim = input(\"İsminizi girin: \")\n",
    "dogum_yili_str = input(\"Doğum yılınızı girin: \")\n",
    "emeklilik_durumu(isim, dogum_yili)"
   ]
  }
 ],
 "metadata": {
  "language_info": {
   "name": "python"
  }
 },
 "nbformat": 4,
 "nbformat_minor": 2
}
